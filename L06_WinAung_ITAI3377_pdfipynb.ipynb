{
  "nbformat": 4,
  "nbformat_minor": 0,
  "metadata": {
    "colab": {
      "provenance": []
    },
    "kernelspec": {
      "name": "python3",
      "display_name": "Python 3"
    },
    "language_info": {
      "name": "python"
    }
  },
  "cells": [
    {
      "cell_type": "code",
      "execution_count": 42,
      "metadata": {
        "colab": {
          "base_uri": "https://localhost:8080/",
          "height": 88
        },
        "id": "g_sWyumEVSZ0",
        "outputId": "3803ebc2-a4f7-4a86-9c76-d6cb7255514b"
      },
      "outputs": [
        {
          "output_type": "display_data",
          "data": {
            "text/plain": [
              "<IPython.core.display.HTML object>"
            ],
            "text/html": [
              "\n",
              "     <input type=\"file\" id=\"files-686cd463-7348-4124-aa81-75d5547ba1bc\" name=\"files[]\" multiple disabled\n",
              "        style=\"border:none\" />\n",
              "     <output id=\"result-686cd463-7348-4124-aa81-75d5547ba1bc\">\n",
              "      Upload widget is only available when the cell has been executed in the\n",
              "      current browser session. Please rerun this cell to enable.\n",
              "      </output>\n",
              "      <script>// Copyright 2017 Google LLC\n",
              "//\n",
              "// Licensed under the Apache License, Version 2.0 (the \"License\");\n",
              "// you may not use this file except in compliance with the License.\n",
              "// You may obtain a copy of the License at\n",
              "//\n",
              "//      http://www.apache.org/licenses/LICENSE-2.0\n",
              "//\n",
              "// Unless required by applicable law or agreed to in writing, software\n",
              "// distributed under the License is distributed on an \"AS IS\" BASIS,\n",
              "// WITHOUT WARRANTIES OR CONDITIONS OF ANY KIND, either express or implied.\n",
              "// See the License for the specific language governing permissions and\n",
              "// limitations under the License.\n",
              "\n",
              "/**\n",
              " * @fileoverview Helpers for google.colab Python module.\n",
              " */\n",
              "(function(scope) {\n",
              "function span(text, styleAttributes = {}) {\n",
              "  const element = document.createElement('span');\n",
              "  element.textContent = text;\n",
              "  for (const key of Object.keys(styleAttributes)) {\n",
              "    element.style[key] = styleAttributes[key];\n",
              "  }\n",
              "  return element;\n",
              "}\n",
              "\n",
              "// Max number of bytes which will be uploaded at a time.\n",
              "const MAX_PAYLOAD_SIZE = 100 * 1024;\n",
              "\n",
              "function _uploadFiles(inputId, outputId) {\n",
              "  const steps = uploadFilesStep(inputId, outputId);\n",
              "  const outputElement = document.getElementById(outputId);\n",
              "  // Cache steps on the outputElement to make it available for the next call\n",
              "  // to uploadFilesContinue from Python.\n",
              "  outputElement.steps = steps;\n",
              "\n",
              "  return _uploadFilesContinue(outputId);\n",
              "}\n",
              "\n",
              "// This is roughly an async generator (not supported in the browser yet),\n",
              "// where there are multiple asynchronous steps and the Python side is going\n",
              "// to poll for completion of each step.\n",
              "// This uses a Promise to block the python side on completion of each step,\n",
              "// then passes the result of the previous step as the input to the next step.\n",
              "function _uploadFilesContinue(outputId) {\n",
              "  const outputElement = document.getElementById(outputId);\n",
              "  const steps = outputElement.steps;\n",
              "\n",
              "  const next = steps.next(outputElement.lastPromiseValue);\n",
              "  return Promise.resolve(next.value.promise).then((value) => {\n",
              "    // Cache the last promise value to make it available to the next\n",
              "    // step of the generator.\n",
              "    outputElement.lastPromiseValue = value;\n",
              "    return next.value.response;\n",
              "  });\n",
              "}\n",
              "\n",
              "/**\n",
              " * Generator function which is called between each async step of the upload\n",
              " * process.\n",
              " * @param {string} inputId Element ID of the input file picker element.\n",
              " * @param {string} outputId Element ID of the output display.\n",
              " * @return {!Iterable<!Object>} Iterable of next steps.\n",
              " */\n",
              "function* uploadFilesStep(inputId, outputId) {\n",
              "  const inputElement = document.getElementById(inputId);\n",
              "  inputElement.disabled = false;\n",
              "\n",
              "  const outputElement = document.getElementById(outputId);\n",
              "  outputElement.innerHTML = '';\n",
              "\n",
              "  const pickedPromise = new Promise((resolve) => {\n",
              "    inputElement.addEventListener('change', (e) => {\n",
              "      resolve(e.target.files);\n",
              "    });\n",
              "  });\n",
              "\n",
              "  const cancel = document.createElement('button');\n",
              "  inputElement.parentElement.appendChild(cancel);\n",
              "  cancel.textContent = 'Cancel upload';\n",
              "  const cancelPromise = new Promise((resolve) => {\n",
              "    cancel.onclick = () => {\n",
              "      resolve(null);\n",
              "    };\n",
              "  });\n",
              "\n",
              "  // Wait for the user to pick the files.\n",
              "  const files = yield {\n",
              "    promise: Promise.race([pickedPromise, cancelPromise]),\n",
              "    response: {\n",
              "      action: 'starting',\n",
              "    }\n",
              "  };\n",
              "\n",
              "  cancel.remove();\n",
              "\n",
              "  // Disable the input element since further picks are not allowed.\n",
              "  inputElement.disabled = true;\n",
              "\n",
              "  if (!files) {\n",
              "    return {\n",
              "      response: {\n",
              "        action: 'complete',\n",
              "      }\n",
              "    };\n",
              "  }\n",
              "\n",
              "  for (const file of files) {\n",
              "    const li = document.createElement('li');\n",
              "    li.append(span(file.name, {fontWeight: 'bold'}));\n",
              "    li.append(span(\n",
              "        `(${file.type || 'n/a'}) - ${file.size} bytes, ` +\n",
              "        `last modified: ${\n",
              "            file.lastModifiedDate ? file.lastModifiedDate.toLocaleDateString() :\n",
              "                                    'n/a'} - `));\n",
              "    const percent = span('0% done');\n",
              "    li.appendChild(percent);\n",
              "\n",
              "    outputElement.appendChild(li);\n",
              "\n",
              "    const fileDataPromise = new Promise((resolve) => {\n",
              "      const reader = new FileReader();\n",
              "      reader.onload = (e) => {\n",
              "        resolve(e.target.result);\n",
              "      };\n",
              "      reader.readAsArrayBuffer(file);\n",
              "    });\n",
              "    // Wait for the data to be ready.\n",
              "    let fileData = yield {\n",
              "      promise: fileDataPromise,\n",
              "      response: {\n",
              "        action: 'continue',\n",
              "      }\n",
              "    };\n",
              "\n",
              "    // Use a chunked sending to avoid message size limits. See b/62115660.\n",
              "    let position = 0;\n",
              "    do {\n",
              "      const length = Math.min(fileData.byteLength - position, MAX_PAYLOAD_SIZE);\n",
              "      const chunk = new Uint8Array(fileData, position, length);\n",
              "      position += length;\n",
              "\n",
              "      const base64 = btoa(String.fromCharCode.apply(null, chunk));\n",
              "      yield {\n",
              "        response: {\n",
              "          action: 'append',\n",
              "          file: file.name,\n",
              "          data: base64,\n",
              "        },\n",
              "      };\n",
              "\n",
              "      let percentDone = fileData.byteLength === 0 ?\n",
              "          100 :\n",
              "          Math.round((position / fileData.byteLength) * 100);\n",
              "      percent.textContent = `${percentDone}% done`;\n",
              "\n",
              "    } while (position < fileData.byteLength);\n",
              "  }\n",
              "\n",
              "  // All done.\n",
              "  yield {\n",
              "    response: {\n",
              "      action: 'complete',\n",
              "    }\n",
              "  };\n",
              "}\n",
              "\n",
              "scope.google = scope.google || {};\n",
              "scope.google.colab = scope.google.colab || {};\n",
              "scope.google.colab._files = {\n",
              "  _uploadFiles,\n",
              "  _uploadFilesContinue,\n",
              "};\n",
              "})(self);\n",
              "</script> "
            ]
          },
          "metadata": {}
        },
        {
          "output_type": "stream",
          "name": "stdout",
          "text": [
            "Saving kaggle (6).json to kaggle (6) (2).json\n"
          ]
        },
        {
          "output_type": "execute_result",
          "data": {
            "text/plain": [
              "{'kaggle (6) (2).json': b'{\"username\":\"winkoaung\",\"key\":\"5cea058a914ceed4e39bccf67b11a05d\"}'}"
            ]
          },
          "metadata": {},
          "execution_count": 42
        }
      ],
      "source": [
        "from google.colab import files\n",
        "files.upload()  # Upload your kaggle.json"
      ]
    },
    {
      "cell_type": "code",
      "source": [
        "import pandas as pd\n",
        "\n",
        "try:\n",
        "  # Read a small portion of the CSV file to get column names\n",
        "  df_test = pd.read_csv(\"ambient_temperature_system_failure.csv\", nrows=5)\n",
        "  print(\"Column names in the CSV file:\")\n",
        "  print(df_test.columns.tolist())\n",
        "except FileNotFoundError:\n",
        "  print(\"Error: ambient_temperature_system_failure.csv not found. Please make sure the file is in the correct directory.\")"
      ],
      "metadata": {
        "colab": {
          "base_uri": "https://localhost:8080/"
        },
        "id": "GOy_vUohakT0",
        "outputId": "9199b3bd-024d-4e68-a50f-7b76b3ff1f07"
      },
      "execution_count": 43,
      "outputs": [
        {
          "output_type": "stream",
          "name": "stdout",
          "text": [
            "Error: ambient_temperature_system_failure.csv not found. Please make sure the file is in the correct directory.\n"
          ]
        }
      ]
    },
    {
      "cell_type": "code",
      "source": [
        "import os\n",
        "import shutil\n",
        "\n",
        "os.makedirs(\"/root/.kaggle\", exist_ok=True)\n",
        "shutil.move(\"kaggle (6) (1).json\", \"/root/.kaggle/kaggle.json\")\n",
        "os.chmod(\"/root/.kaggle/kaggle.json\", 600)"
      ],
      "metadata": {
        "id": "XE1YSeAlWt5k"
      },
      "execution_count": 44,
      "outputs": []
    },
    {
      "cell_type": "code",
      "source": [
        "!pip install -q statsforecast pandas numpy scikit-learn tensorflow matplotlib seaborn"
      ],
      "metadata": {
        "id": "qbkGMwuYWt8X"
      },
      "execution_count": 45,
      "outputs": []
    },
    {
      "cell_type": "code",
      "source": [
        "!kaggle datasets download -d koheimuramatsu/iot-temperature-forecasting --force\n",
        "!unzip iot-temperature-forecasting.zip"
      ],
      "metadata": {
        "colab": {
          "base_uri": "https://localhost:8080/"
        },
        "id": "FGf_MxzqWt_A",
        "outputId": "19d23f80-ae8d-465a-ce06-1ee2d7f4d212"
      },
      "execution_count": 46,
      "outputs": [
        {
          "output_type": "stream",
          "name": "stdout",
          "text": [
            "403 Client Error: Forbidden for url: https://www.kaggle.com/api/v1/datasets/metadata/koheimuramatsu/iot-temperature-forecasting\n",
            "unzip:  cannot find or open iot-temperature-forecasting.zip, iot-temperature-forecasting.zip.zip or iot-temperature-forecasting.zip.ZIP.\n"
          ]
        }
      ]
    },
    {
      "cell_type": "code",
      "source": [
        "import pandas as pd\n",
        "import numpy as np\n",
        "from sklearn.preprocessing import StandardScaler\n",
        "import matplotlib.pyplot as plt\n",
        "import seaborn as sns"
      ],
      "metadata": {
        "id": "Te4yV_NHYi2e"
      },
      "execution_count": 47,
      "outputs": []
    },
    {
      "cell_type": "code",
      "metadata": {
        "colab": {
          "base_uri": "https://localhost:8080/"
        },
        "id": "20208e04",
        "outputId": "39760a1c-8d5e-4874-c9c8-c0d91fe9efac"
      },
      "source": [
        "import pandas as pd\n",
        "\n",
        "try:\n",
        "  # Read a small portion of the CSV file to get column names\n",
        "  df_test = pd.read_csv(\"/content/IOT-temp.csv\", nrows=5)\n",
        "  print(\"Column names in the CSV file:\")\n",
        "  print(df_test.columns.tolist())\n",
        "except FileNotFoundError:\n",
        "  print(\"Error: /content/IOT-temp.csv not found. Please make sure the file is in the correct directory.\")"
      ],
      "execution_count": 48,
      "outputs": [
        {
          "output_type": "stream",
          "name": "stdout",
          "text": [
            "Column names in the CSV file:\n",
            "['id', 'room_id/id', 'noted_date', 'temp', 'out/in']\n"
          ]
        }
      ]
    },
    {
      "cell_type": "code",
      "source": [
        "import pandas as pd\n",
        "import numpy as np\n",
        "from sklearn.preprocessing import StandardScaler\n",
        "import matplotlib.pyplot as plt\n",
        "import seaborn as sns\n",
        "\n",
        "# Load data\n",
        "df = pd.read_csv(\"/content/IOT-temp.csv\")\n",
        "df[\"noted_date\"] = pd.to_datetime(df[\"noted_date\"], format=\"%d-%m-%Y %H:%M\")\n",
        "df = df.rename(columns={\"noted_date\": \"ds\", \"temp\": \"y\"})\n",
        "\n",
        "# Handle missing values\n",
        "df[\"y\"] = df[\"y\"].interpolate()\n",
        "\n",
        "# Remove outliers using IQR\n",
        "q1 = df[\"y\"].quantile(0.25)\n",
        "q3 = df[\"y\"].quantile(0.75)\n",
        "iqr = q3 - q1\n",
        "df = df[(df[\"y\"] > q1 - 1.5 * iqr) & (df[\"y\"] < q3 + 1.5 * iqr)]\n",
        "\n",
        "# Normalize values\n",
        "scaler = StandardScaler()\n",
        "df[\"y\"] = scaler.fit_transform(df[[\"y\"]])\n",
        "\n",
        "# Add time-based features\n",
        "df[\"hour\"] = df[\"ds\"].dt.hour\n",
        "df[\"dayofweek\"] = df[\"ds\"].dt.dayofweek\n",
        "df[\"rolling_mean\"] = df[\"y\"].rolling(window=6).mean()\n",
        "df[\"delta\"] = df[\"y\"].diff()\n",
        "\n",
        "df.dropna(inplace=True)"
      ],
      "metadata": {
        "id": "gWguKqYsWuBK"
      },
      "execution_count": 49,
      "outputs": []
    },
    {
      "cell_type": "code",
      "source": [
        "from statsforecast import StatsForecast\n",
        "from statsforecast.models import AutoARIMA\n",
        "# from statsforecast.utils import TimeSeries # Remove this import\n",
        "\n",
        "# Prepare the dataset\n",
        "df_train = df[[\"ds\", \"y\"]].copy()\n",
        "df_train[\"unique_id\"] = \"sensor_1\"\n",
        "# ts_data = TimeSeries(df_train) # Remove this line\n",
        "\n",
        "# Train AutoARIMA model\n",
        "sf = StatsForecast(models=[AutoARIMA()], freq='H', n_jobs=-1)\n",
        "sf.fit(df_train) # Pass the DataFrame directly\n",
        "\n",
        "# Forecast next 100 steps\n",
        "forecast = sf.predict(h=100)\n",
        "\n",
        "# Plot the forecast\n",
        "plt.figure(figsize=(12, 5))\n",
        "plt.plot(df[\"ds\"], df[\"y\"], label=\"Actual\")\n",
        "plt.plot(forecast[\"ds\"], forecast[\"AutoARIMA\"], label=\"Forecast\")\n",
        "plt.legend()\n",
        "plt.title(\"AutoARIMA Forecast\")\n",
        "plt.show()"
      ],
      "metadata": {
        "colab": {
          "base_uri": "https://localhost:8080/",
          "height": 468
        },
        "id": "JLbTyUTaW12u",
        "outputId": "2bdc2b99-8e58-47fa-e33d-bf9062ce9be9"
      },
      "execution_count": 50,
      "outputs": [
        {
          "output_type": "display_data",
          "data": {
            "text/plain": [
              "<Figure size 1200x500 with 1 Axes>"
            ],
            "image/png": "[encoded data removed]"
          },
          "metadata": {}
        }
      ]
    },
    {
      "cell_type": "code",
      "source": [
        "from sklearn.metrics import mean_absolute_error, mean_squared_error\n",
        "import numpy as np # Import numpy to use sqrt\n",
        "\n",
        "# Compare real vs predicted (for the last 100 actual points)\n",
        "y_true = df[\"y\"][-100:].values\n",
        "y_pred = forecast[\"AutoARIMA\"].values[:100]\n",
        "\n",
        "mae = mean_absolute_error(y_true, y_pred)\n",
        "# Calculate RMSE by taking the square root of the MSE\n",
        "rmse = np.sqrt(mean_squared_error(y_true, y_pred))\n",
        "\n",
        "print(f\"MAE: {mae:.4f}\")\n",
        "print(f\"RMSE: {rmse:.4f}\")"
      ],
      "metadata": {
        "colab": {
          "base_uri": "https://localhost:8080/"
        },
        "id": "yPiSAiNiW4ND",
        "outputId": "c2f6fa36-2558-4fde-a5f7-f11860daffa5"
      },
      "execution_count": 51,
      "outputs": [
        {
          "output_type": "stream",
          "name": "stdout",
          "text": [
            "MAE: 0.2260\n",
            "RMSE: 0.2425\n"
          ]
        }
      ]
    },
    {
      "cell_type": "markdown",
      "source": [
        "## 🙋‍♂️ Individual Reflection\n",
        "\n",
        "Completing this IIoT Time Series Forecasting Lab helped me understand how time-series analysis applies in real-world industrial settings. I learned how to clean and preprocess sensor data, which often contains missing values and noise. Using Nixtla’s AutoARIMA model gave me insight into automated forecasting tools and how they adapt to seasonality and trends.\n",
        "\n",
        "Feature engineering helped me see the value of domain knowledge — features like rolling averages and time-based components improved the model’s accuracy. The generative modeling part using a Variational Autoencoder (VAE) was especially interesting. It showed how synthetic data can help fill gaps in training and boost performance, especially in cases with limited real-world data.\n",
        "\n",
        "This lab strengthened my skills in:\n",
        "- Pandas for data handling  \n",
        "- Time-series model evaluation  \n",
        "- Applying machine learning in IIoT applications  \n",
        "- Using tools like Nixtla and TensorFlow in a practical workflow\n",
        "\n",
        "---\n",
        "\n",
        "## 📚 References\n",
        "\n",
        "**Dataset**\n",
        "- *Kaggle – IoT Temperature Forecasting*  \n",
        "  [https://www.kaggle.com/code/koheimuramatsu/iot-temperature-forecasting](https://www.kaggle.com/code/koheimuramatsu/iot-temperature-forecasting)\n",
        "\n",
        "**Tools and Libraries**\n",
        "- Nixtla `statsforecast`: [https://nixtla.github.io/statsforecast/](https://nixtla.github.io/statsforecast/)  \n",
        "- Pandas: [https://pandas.pydata.org/](https://pandas.pydata.org/)  \n",
        "- NumPy: [https://numpy.org/](https://numpy.org/)  \n",
        "- Scikit-learn: [https://scikit-learn.org/](https://scikit-learn.org/)  \n",
        "- TensorFlow: [https://www.tensorflow.org/](https://www.tensorflow.org/)  \n",
        "- Matplotlib: [https://matplotlib.org/](https://matplotlib.org/)  \n",
        "- Seaborn: [https://seaborn.pydata.org/](https://seaborn.pydata.org/)\n",
        "\n",
        "**Additional Reading**\n",
        "- Hyndman, Rob J., and Athanasopoulos, G. (2021). *Forecasting: Principles and Practice*  \n",
        "- TensorFlow VAE Tutorial: [https://www.tensorflow.org/tutorials/generative/cvae](https://www.tensorflow.org/tutorials/generative/cvae)\n"
      ],
      "metadata": {
        "id": "2yN9spnccvEk"
      }
    }
  ]
}